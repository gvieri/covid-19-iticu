{
  "nbformat": 4,
  "nbformat_minor": 0,
  "metadata": {
    "colab": {
      "name": "Copy of Copy of covid19-iticu.ipynb",
      "provenance": [],
      "toc_visible": true
    },
    "kernelspec": {
      "name": "python3",
      "display_name": "Python 3"
    }
  },
  "cells": [
    {
      "cell_type": "markdown",
      "metadata": {
        "id": "4KH44rZA6U95"
      },
      "source": [
        "# Covid-19 ITalian ICU\n",
        "\n",
        "Il titolo e' in inglese ma il resto no. Ora salvo qualche alieno appena arrivato, o qualche fortunato che e' stato ibernato prima della fine del 2019 tutti sanno cosa e' il Covid-19. Scopo di questo notebook e' quello di dar voce ai dati ufficiali, e, a qualche mia supposizione ricavata da media ufficiali per il numero delle icu per regione. \n",
        "\n",
        "Le fonti di questi dati sono: \n",
        "\n",
        "1.   https://github.com/pcm-dpc/COVID-19\n",
        "2.   https://www.repubblica.it\n",
        "\n",
        "1.   https://www.ilsole24ore.com\n",
        "2.   https://www.nextquotidiano.it/\n",
        "\n",
        "E, altri quotidiani ufficiali registrati. \n",
        "\n",
        "Questo notebook prende in conto i dati ufficiali (*LIMITATAMENTE ALLE TERAPIE INTENSIVE*) li grafica e calcola il rapporto posti in terapia intensiva occupati diviso posti disponibili su base regionale. Ripeto che i dati relativi al numero di terapie intensive li ho desunti e quindi supposti a partire da quanto pubblicato da fonti che ritengo ufficiali. \n",
        "\n",
        "TECNICALITA': non avevo tempo e quindi ho usato pandas il piu' possibile liscio e non mi son (ancora ?) messo con predittori di 'nessun ordine' ... O forse l'ho fatto ma non ho ancora intenzione di pubblicarlo. Per il grafico io non so' fare a meno di mathplotlib. \n",
        "\n",
        "Se trovate errori e omissioni, per favore fatemi sapere.\n",
        "https://github.com/gvieri/covid-19-iticu .\n",
        "\n",
        "Se trovate fonti ufficiali (STATO/REGIONE ETC.) con altri dati: indicatemele per favore.\n",
        "\n",
        "\n",
        "\n",
        "\n",
        "\n",
        "\n",
        "\n",
        "\n"
      ]
    },
    {
      "cell_type": "code",
      "metadata": {
        "id": "SP-EaodN6G8Z",
        "outputId": "1646557c-5327-4b1a-cee2-b9b6347d7d1e",
        "colab": {
          "base_uri": "https://localhost:8080/"
        }
      },
      "source": [
        "import pandas as pd\n",
        "\n",
        "\n",
        "def datatrunc(data):\n",
        "    return(data[:-9])\n",
        "\n",
        "\n",
        "urlxtab = 'https://raw.githubusercontent.com/pcm-dpc/COVID-19/master/dati-regioni/dpc-covid19-ita-regioni-latest.csv'\n",
        "filename= 'https://raw.githubusercontent.com/gvieri/covid-19-iticu/main/deduzioniterapiaintensivaxregione.csv'\n",
        "\n",
        "d = pd.read_csv(urlxtab)\n",
        "d2=d[['data','denominazione_regione','terapia_intensiva']].sort_values(by=\"denominazione_regione\")\n",
        "\n",
        "d2.loc[:,'data']=d2['data'].apply(datatrunc)\n",
        "\n",
        "d3= pd.read_csv(filename).sort_values(by=\"regione\")\n",
        "d2['ti_precovid']=d3['precovid'].values\n",
        "d2['ti_pre2ondata']=d3['pre2ondata'].values\n",
        "d2.rename(columns={'terapia_intensiva':'ti'},inplace=True)\n",
        "d2['malati/ti_precovid']=(d2['ti']/d2['ti_precovid'])*100\n",
        "d2['malati/ti_pre2ondata']=(d2['ti']/d2['ti_pre2ondata'])*100\n",
        "\n",
        "output=d2.to_string(formatters={\n",
        "    'malati/ti_precovid':'{:.2f}'.format,\n",
        "    'malati/ti_pre2ondata':'{:.2f}'.format\n",
        "    })\n",
        "\n",
        "print(output)\n"
      ],
      "execution_count": 2,
      "outputs": [
        {
          "output_type": "stream",
          "text": [
          ""
          ],
          "name": "stdout"
        }
      ]
    }
  ]
}

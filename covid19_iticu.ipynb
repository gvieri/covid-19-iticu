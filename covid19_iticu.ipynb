{
  "nbformat": 4,
  "nbformat_minor": 0,
  "metadata": {
    "colab": {
      "name": "Copy of Copy of covid19-iticu.ipynb",
      "provenance": []
    },
    "kernelspec": {
      "name": "python3",
      "display_name": "Python 3"
    },
    "widgets": {
      "application/vnd.jupyter.widget-state+json": {
        "913a0a57d04e45aa95db5e078db6ef4e": {
          "model_module": "@jupyter-widgets/controls",
          "model_name": "IntSliderModel",
          "state": {
            "_view_name": "IntSliderView",
            "style": "IPY_MODEL_9549578eafc0439b8ac7b808b92895d3",
            "_dom_classes": [],
            "description": "altezza del grafico",
            "step": 1,
            "_model_name": "IntSliderModel",
            "orientation": "horizontal",
            "max": 10,
            "_view_module": "@jupyter-widgets/controls",
            "_model_module_version": "1.5.0",
            "value": 9,
            "_view_count": null,
            "disabled": false,
            "_view_module_version": "1.5.0",
            "min": 0,
            "continuous_update": true,
            "readout_format": "d",
            "description_tooltip": null,
            "readout": true,
            "_model_module": "@jupyter-widgets/controls",
            "layout": "IPY_MODEL_37c0319bbd1f4efa8005c8774f046b26"
          }
        },
        "9549578eafc0439b8ac7b808b92895d3": {
          "model_module": "@jupyter-widgets/controls",
          "model_name": "SliderStyleModel",
          "state": {
            "_view_name": "StyleView",
            "handle_color": null,
            "_model_name": "SliderStyleModel",
            "description_width": "",
            "_view_module": "@jupyter-widgets/base",
            "_model_module_version": "1.5.0",
            "_view_count": null,
            "_view_module_version": "1.2.0",
            "_model_module": "@jupyter-widgets/controls"
          }
        },
        "37c0319bbd1f4efa8005c8774f046b26": {
          "model_module": "@jupyter-widgets/base",
          "model_name": "LayoutModel",
          "state": {
            "_view_name": "LayoutView",
            "grid_template_rows": null,
            "right": null,
            "justify_content": null,
            "_view_module": "@jupyter-widgets/base",
            "overflow": null,
            "_model_module_version": "1.2.0",
            "_view_count": null,
            "flex_flow": null,
            "width": null,
            "min_width": null,
            "border": null,
            "align_items": null,
            "bottom": null,
            "_model_module": "@jupyter-widgets/base",
            "top": null,
            "grid_column": null,
            "overflow_y": null,
            "overflow_x": null,
            "grid_auto_flow": null,
            "grid_area": null,
            "grid_template_columns": null,
            "flex": null,
            "_model_name": "LayoutModel",
            "justify_items": null,
            "grid_row": null,
            "max_height": null,
            "align_content": null,
            "visibility": null,
            "align_self": null,
            "height": null,
            "min_height": null,
            "padding": null,
            "grid_auto_rows": null,
            "grid_gap": null,
            "max_width": null,
            "order": null,
            "_view_module_version": "1.2.0",
            "grid_template_areas": null,
            "object_position": null,
            "object_fit": null,
            "grid_auto_columns": null,
            "margin": null,
            "display": null,
            "left": null
          }
        },
        "5e75857473b24267972f3c85c202557f": {
          "model_module": "@jupyter-widgets/controls",
          "model_name": "IntSliderModel",
          "state": {
            "_view_name": "IntSliderView",
            "style": "IPY_MODEL_586430b93009474ba236eda9c508903f",
            "_dom_classes": [],
            "description": "larghezza del grafico",
            "step": 1,
            "_model_name": "IntSliderModel",
            "orientation": "horizontal",
            "max": 20,
            "_view_module": "@jupyter-widgets/controls",
            "_model_module_version": "1.5.0",
            "value": 18,
            "_view_count": null,
            "disabled": false,
            "_view_module_version": "1.5.0",
            "min": 0,
            "continuous_update": true,
            "readout_format": "d",
            "description_tooltip": null,
            "readout": true,
            "_model_module": "@jupyter-widgets/controls",
            "layout": "IPY_MODEL_c732dfaa0bec410ab5022782e564f553"
          }
        },
        "586430b93009474ba236eda9c508903f": {
          "model_module": "@jupyter-widgets/controls",
          "model_name": "SliderStyleModel",
          "state": {
            "_view_name": "StyleView",
            "handle_color": null,
            "_model_name": "SliderStyleModel",
            "description_width": "",
            "_view_module": "@jupyter-widgets/base",
            "_model_module_version": "1.5.0",
            "_view_count": null,
            "_view_module_version": "1.2.0",
            "_model_module": "@jupyter-widgets/controls"
          }
        },
        "c732dfaa0bec410ab5022782e564f553": {
          "model_module": "@jupyter-widgets/base",
          "model_name": "LayoutModel",
          "state": {
            "_view_name": "LayoutView",
            "grid_template_rows": null,
            "right": null,
            "justify_content": null,
            "_view_module": "@jupyter-widgets/base",
            "overflow": null,
            "_model_module_version": "1.2.0",
            "_view_count": null,
            "flex_flow": null,
            "width": null,
            "min_width": null,
            "border": null,
            "align_items": null,
            "bottom": null,
            "_model_module": "@jupyter-widgets/base",
            "top": null,
            "grid_column": null,
            "overflow_y": null,
            "overflow_x": null,
            "grid_auto_flow": null,
            "grid_area": null,
            "grid_template_columns": null,
            "flex": null,
            "_model_name": "LayoutModel",
            "justify_items": null,
            "grid_row": null,
            "max_height": null,
            "align_content": null,
            "visibility": null,
            "align_self": null,
            "height": null,
            "min_height": null,
            "padding": null,
            "grid_auto_rows": null,
            "grid_gap": null,
            "max_width": null,
            "order": null,
            "_view_module_version": "1.2.0",
            "grid_template_areas": null,
            "object_position": null,
            "object_fit": null,
            "grid_auto_columns": null,
            "margin": null,
            "display": null,
            "left": null
          }
        }
      }
    }
  },
  "cells": [
    {
      "cell_type": "markdown",
      "metadata": {
        "id": "4KH44rZA6U95"
      },
      "source": [
        "# Covid-19 ITalian ICU\n",
        "\n",
        "Il titolo e' in inglese ma il resto no. Ora salvo qualche alieno appena arrivato, o qualche fortunato che e' stato ibernato prima della fine del 2019 tutti sanno cosa e' il Covid-19. Scopo di questo notebook e' quello di dar voce ai dati ufficiali, e, a qualche mia supposizione ricavata da media ufficiali per il numero delle icu per regione. \n",
        "\n",
        "Le fonti di questi dati sono: \n",
        "\n",
        "1.   https://github.com/pcm-dpc/COVID-19\n",
        "2.   https://www.repubblica.it\n",
        "\n",
        "1.   https://www.ilsole24ore.com\n",
        "2.   https://www.nextquotidiano.it/\n",
        "\n",
        "E, altri quotidiani ufficiali registrati. \n",
        "\n",
        "Questo notebook prende in conto i dati ufficiali (*LIMITATAMENTE ALLE TERAPIE INTENSIVE*) li grafica e calcola il rapporto posti in terapia intensiva occupati diviso posti disponibili su base regionale. Ripeto che i dati relativi al numero di terapie intensive li ho desunti e quindi supposti a partire da quanto pubblicato da fonti che ritengo ufficiali. \n",
        "\n",
        "TECNICALITA': non avevo tempo e quindi ho usato pandas il piu' possibile liscio e non mi son (ancora ?) messo con predittori di 'nessun ordine' ... O forse l'ho fatto ma non ho ancora intenzione di pubblicarlo. Per il grafico io non so' fare a meno di mathplotlib. \n",
        "\n",
        "Se trovate errori e omissioni, per favore fatemi sapere.\n",
        "https://github.com/gvieri/covid-19-iticu .\n",
        "\n",
        "Se trovate fonti ufficiali (STATO/REGIONE ETC.) con altri dati: indicatemele per favore.\n",
        "\n",
        "\n",
        "\n",
        "\n",
        "\n",
        "\n",
        "\n",
        "\n"
      ]
    },
    {
      "cell_type": "code",
      "metadata": {
        "id": "_QrbkxvzTuT6",
        "outputId": "8de3a270-65fe-4b62-bc30-3a94dc385b9a",
        "colab": {
          "base_uri": "https://localhost:8080/",
          "height": 79,
          "referenced_widgets": [
            "913a0a57d04e45aa95db5e078db6ef4e",
            "9549578eafc0439b8ac7b808b92895d3",
            "37c0319bbd1f4efa8005c8774f046b26",
            "5e75857473b24267972f3c85c202557f",
            "586430b93009474ba236eda9c508903f",
            "c732dfaa0bec410ab5022782e564f553"
          ]
        }
      },
      "source": [
        "import ipywidgets as widgets\n",
        "heightw=widgets.IntSlider(value=9, max=10, description='altezza del grafico')\n",
        "display(heightw)\n",
        "widthw =widgets.IntSlider(value=18, max=20, description='larghezza del grafico')\n",
        "display(widthw)\n",
        "\n"
      ],
      "execution_count": 24,
      "outputs": [
        {
          "output_type": "display_data",
          "data": {
            "application/vnd.jupyter.widget-view+json": {
              "model_id": "913a0a57d04e45aa95db5e078db6ef4e",
              "version_minor": 0,
              "version_major": 2
            },
            "text/plain": [
              "IntSlider(value=9, description='altezza del grafico', max=10)"
            ]
          },
          "metadata": {
            "tags": []
          }
        },
        {
          "output_type": "display_data",
          "data": {
            "application/vnd.jupyter.widget-view+json": {
              "model_id": "5e75857473b24267972f3c85c202557f",
              "version_minor": 0,
              "version_major": 2
            },
            "text/plain": [
              "IntSlider(value=18, description='larghezza del grafico', max=20)"
            ]
          },
          "metadata": {
            "tags": []
          }
        }
      ]
    },
    {
      "cell_type": "code",
      "metadata": {
        "id": "SP-EaodN6G8Z"
      },
      "source": [
        "\n",
        "import pandas as pd\n",
        "import matplotlib as plt\n",
        "plt.rcParams.update({'figure.max_open_warning': 0})\n",
        "\n",
        "heightofchart= heightw.value\n",
        "widthofchart = widthw.value \n",
        "\n",
        "\n",
        "def datatrunc(data):\n",
        "    return(data[:-9])\n",
        "\n",
        "\n",
        "urlxtab = 'https://raw.githubusercontent.com/pcm-dpc/COVID-19/master/dati-regioni/dpc-covid19-ita-regioni-latest.csv'\n",
        "filename= 'https://raw.githubusercontent.com/gvieri/covid-19-iticu/main/deduzioniterapiaintensivaxregione.csv'\n",
        "\n",
        "d = pd.read_csv(urlxtab)\n",
        "d2=d[['data','denominazione_regione','terapia_intensiva']].sort_values(by=\"denominazione_regione\")\n",
        "\n",
        "d2.loc[:,'data']=d2['data'].apply(datatrunc)\n",
        "\n",
        "d3= pd.read_csv(filename).sort_values(by=\"regione\")\n",
        "d2['ti_precovid']=d3['precovid'].values\n",
        "d2['ti_pre2ondata']=d3['pre2ondata'].values\n",
        "d2.rename(columns={'terapia_intensiva':'ti'},inplace=True)\n",
        "d2['malati/ti_precovid']=(d2['ti']/d2['ti_precovid'])*100\n",
        "d2['malati/ti_pre2ondata']=(d2['ti']/d2['ti_pre2ondata'])*100\n",
        "\n",
        "output=d2.to_string(formatters={\n",
        "    'malati/ti_precovid':'{:.2f}'.format,\n",
        "    'malati/ti_pre2ondata':'{:.2f}'.format\n",
        "    })\n",
        "\n",
        "print(output)\n"
      ],
      "execution_count": null,
      "outputs": []
    },
    {
      "cell_type": "code",
      "metadata": {
        "id": "fH9K0YTCuC62"
      },
      "source": [
        "url = 'https://raw.githubusercontent.com/pcm-dpc/COVID-19/master/dati-regioni/dpc-covid19-ita-regioni.csv'\n",
        "\n",
        "# Extract tables\n",
        "d1 = pd.read_csv(url)\n",
        "d1.loc[:,'data']=d1['data'].apply(datatrunc)\n",
        "\n",
        "def disegna(regione):\n",
        "    d2=d1[['data',\"denominazione_regione\",'terapia_intensiva']]\n",
        "    d3=d2.loc[d2['denominazione_regione'] == regione ]\n",
        "    ax=d3.plot(x='data',y='terapia_intensiva', kind='line', title='ti occupate in regione '+regione, grid=True, figsize=(widthofchart,heightofchart))\n",
        "    ax.set_ylabel(\"malati\")\n",
        "\n",
        "regioni=d['denominazione_regione'].to_list()\n",
        "for a in regioni:\n",
        "  disegna(a)\n",
        "\n"
      ],
      "execution_count": null,
      "outputs": []
    },
    {
      "cell_type": "code",
      "metadata": {
        "id": "fH9K0YTCuC63"
      },
      "source": [
        "url = 'https://raw.githubusercontent.com/pcm-dpc/COVID-19/master/dati-regioni/dpc-covid19-ita-regioni.csv'\n",
        "\n",
        "# Extract tables\n",
        "d1 = pd.read_csv(url)\n",
        "d1.loc[:,'data']=d1['data'].apply(datatrunc)\n",
        "\n",
        "def disegna(regione):\n",
        "    d2=d1[['data',\"denominazione_regione\",'totale_positivi','dimessi_guariti','deceduti','terapia_intensiva']]\n",
        "    d3=d2.loc[d2['denominazione_regione'] == regione ]\n",
        "    ax=d3.plot(x='data',y=['totale_positivi','dimessi_guariti','deceduti','terapia_intensiva'], kind='line', title=regione, grid=True,color=['red','green','black','violet'],label=['positivi','guariti','deceduti','terapia intensiva'], figsize=(widthofchart,heightofchart))\n",
        "    ax.set_ylabel(\"malati\")\n",
        "\n",
        "regioni=d['denominazione_regione'].to_list()\n",
        "for a in regioni:\n",
        "  disegna(a)\n",
        "\n"
      ],
      "execution_count": null,
      "outputs": []
    }
  ]
}
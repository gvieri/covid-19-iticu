{
  "nbformat": 4,
  "nbformat_minor": 0,
  "metadata": {
    "colab": {
      "name": "Copy of Copy of covid19-iticu.ipynb",
      "provenance": [],
      "toc_visible": true
    },
    "kernelspec": {
      "name": "python3",
      "display_name": "Python 3"
    }
  },
  "cells": [
    {
      "cell_type": "markdown",
      "metadata": {
        "id": "4KH44rZA6U95"
      },
      "source": [
        "# Covid-19 ITalian ICU\n",
        "\n",
        "Il titolo e' in inglese ma il resto no. Ora salvo qualche alieno appena arrivato, o qualche fortunato che e' stato ibernato prima della fine del 2019 tutti sanno cosa e' il Covid-19. Scopo di questo notebook e' quello di dar voce ai dati ufficiali, e, a qualche mia supposizione ricavata da media ufficiali per il numero delle icu per regione. \n",
        "\n",
        "Le fonti di questi dati sono: \n",
        "\n",
        "1.   https://github.com/pcm-dpc/COVID-19\n",
        "2.   https://www.repubblica.it\n",
        "\n",
        "1.   https://www.ilsole24ore.com\n",
        "2.   https://www.nextquotidiano.it/\n",
        "\n",
        "E, altri quotidiani ufficiali registrati. \n",
        "\n",
        "Questo notebook prende in conto i dati ufficiali (*LIMITATAMENTE ALLE TERAPIE INTESIVE*) li grafica e calcola il rapporto per ogni regione posti in terapia intensiva occupati diviso posti disponibili. \n",
        "\n",
        "TECNICALITA': non avevo tempo e quindi ho usato pandas il piu' possibile liscio e non mi son (ancora ?) messo con predittori di 'nessun ordine' ... O forse l'ho fatto ma non ho ancora intenzione di pubblicarlo. Per il grafico io non so' fare a meno di mathplotlib. \n",
        "\n",
        "Se trovate errori e omissioni, per favore fatemi sapere.\n",
        "https://github.com/gvieri/covid-19-iticu .\n",
        "\n",
        "\n",
        "\n",
        "\n",
        "\n",
        "\n",
        "\n",
        "\n",
        "\n",
        "\n"
      ]
    },
    {
      "cell_type": "code",
      "metadata": {
        "id": "SP-EaodN6G8Z",
        "outputId": "1646557c-5327-4b1a-cee2-b9b6347d7d1e",
        "colab": {
          "base_uri": "https://localhost:8080/"
        }
      },
      "source": [
        "import pandas as pd\n",
        "\n",
        "\n",
        "urlxtab = 'https://raw.githubusercontent.com/pcm-dpc/COVID-19/master/dati-regioni/dpc-covid19-ita-regioni-latest.csv'\n",
        "filename= 'https://raw.githubusercontent.com/gvieri/covid-19-iticu/main/deduzioniterapiaintensivaxregione.csv'\n",
        "\n",
        "d = pd.read_csv(urlxtab)\n",
        "d2=d[['data','denominazione_regione','terapia_intensiva']].sort_values(by=\"denominazione_regione\")\n",
        "\n",
        "\n",
        "d3= pd.read_csv(filename).sort_values(by=\"regione\")\n",
        "d2['ti_precovid']=d3['precovid'].values\n",
        "d2['ti_pre2ondata']=d3['pre2ondata'].values\n",
        "d2.rename(columns={'terapia_intensiva':'ti'},inplace=True)\n",
        "d2['malati/ti_precovid']=(d2['ti']/d2['ti_precovid'])*100\n",
        "d2['malati/ti_pre2ondata']=(d2['ti']/d2['ti_pre2ondata'])*100\n",
        "\n",
        "output=d2.to_string(formatters={\n",
        "    'malati/ti_precovid':'{:.2f}'.format,\n",
        "    'malati/ti_pre2ondata':'{:.2f}'.format\n",
        "    })\n",
        "\n",
        "print(output)\n"
      ],
      "execution_count": 2,
      "outputs": [
        {
          "output_type": "stream",
          "text": [
            "                   data  denominazione_regione   ti  ti_precovid  ti_pre2ondata malati/ti_precovid malati/ti_pre2ondata\n",
            "0   2020-11-02T17:00:00                Abruzzo   33          123            133              26.83                24.81\n",
            "1   2020-11-02T17:00:00             Basilicata   13           49             73              26.53                17.81\n",
            "2   2020-11-02T17:00:00               Calabria   19          146            152              13.01                12.50\n",
            "3   2020-11-02T17:00:00               Campania  171          335            427              51.04                40.05\n",
            "4   2020-11-02T17:00:00         Emilia-Romagna  138          449            516              30.73                26.74\n",
            "5   2020-11-02T17:00:00  Friuli Venezia Giulia   37          120            175              30.83                21.14\n",
            "6   2020-11-02T17:00:00                  Lazio  185          571            747              32.40                24.77\n",
            "7   2020-11-02T17:00:00                Liguria   57          180            209              31.67                27.27\n",
            "8   2020-11-02T17:00:00              Lombardia  435          861            983              50.52                44.25\n",
            "9   2020-11-02T17:00:00                 Marche   50          115            127              43.48                39.37\n",
            "10  2020-11-02T17:00:00                 Molise    5           30             34              16.67                14.71\n",
            "11  2020-11-02T17:00:00           P.A. Bolzano   23           37             55              62.16                41.82\n",
            "12  2020-11-02T17:00:00            P.A. Trento   11           32             51              34.38                21.57\n",
            "13  2020-11-02T17:00:00               Piemonte  196          327            367              59.94                53.41\n",
            "14  2020-11-02T17:00:00                 Puglia   88          304            366              28.95                24.04\n",
            "15  2020-11-02T17:00:00               Sardegna   43          134            175              32.09                24.57\n",
            "16  2020-11-02T17:00:00                Sicilia  142          418            538              33.97                26.39\n",
            "17  2020-11-02T17:00:00                Toscana  182          374            415              48.66                43.86\n",
            "18  2020-11-02T17:00:00                 Umbria   46           70             70              65.71                65.71\n",
            "19  2020-11-02T17:00:00          Valle d'Aosta   12           10             20             120.00                60.00\n",
            "20  2020-11-02T17:00:00                 Veneto  136          494            825              27.53                16.48\n"
          ],
          "name": "stdout"
        }
      ]
    }
  ]
}